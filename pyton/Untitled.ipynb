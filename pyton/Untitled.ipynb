{
 "cells": [
  {
   "cell_type": "code",
   "execution_count": 1,
   "metadata": {},
   "outputs": [
    {
     "name": "stdout",
     "output_type": "stream",
     "text": [
      "안녕하세요\n"
     ]
    }
   ],
   "source": []
  },
  {
   "cell_type": "code",
   "execution_count": 3,
   "metadata": {},
   "outputs": [
    {
     "name": "stdout",
     "output_type": "stream",
     "text": [
      "\n",
      "#17\n",
      "최대 낙차 : 7\n"
     ]
    }
   ],
   "source": [
    "print(\"\\n#17\") # 최희현씨 답안\n",
    "# 17. 최대낙차\n",
    "# 최대 낙차 : 7\n",
    "box=[7,4,2,0,0,6,0,7,0]\n",
    "drop2=[]\n",
    "for i in range(len(box)):\n",
    "    drop1=[]\n",
    "    for j in box[i+1:]:\n",
    "        if box[i]>j:\n",
    "            drop1.append(j)\n",
    "    drop2.append(len(drop1))\n",
    "print(\"최대 낙차 :\",max(drop2))"
   ]
  },
  {
   "cell_type": "code",
   "execution_count": null,
   "metadata": {},
   "outputs": [],
   "source": []
  }
 ],
 "metadata": {
  "kernelspec": {
   "display_name": "Python 3",
   "language": "python",
   "name": "python3"
  },
  "language_info": {
   "codemirror_mode": {
    "name": "ipython",
    "version": 3
   },
   "file_extension": ".py",
   "mimetype": "text/x-python",
   "name": "python",
   "nbconvert_exporter": "python",
   "pygments_lexer": "ipython3",
   "version": "3.8.5"
  }
 },
 "nbformat": 4,
 "nbformat_minor": 4
}
